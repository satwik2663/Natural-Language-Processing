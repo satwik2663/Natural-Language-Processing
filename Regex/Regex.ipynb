{
 "cells": [
  {
   "cell_type": "code",
   "execution_count": 143,
   "metadata": {},
   "outputs": [],
   "source": [
    "from nltk.tokenize import word_tokenize\n",
    "from nltk.tokenize import sent_tokenize"
   ]
  },
  {
   "cell_type": "code",
   "execution_count": 144,
   "metadata": {},
   "outputs": [],
   "source": [
    "s = open('nltk.txt', 'r').read().lower()"
   ]
  },
  {
   "cell_type": "code",
   "execution_count": 145,
   "metadata": {},
   "outputs": [],
   "source": [
    "# Regex"
   ]
  },
  {
   "cell_type": "code",
   "execution_count": 146,
   "metadata": {},
   "outputs": [
    {
     "name": "stdout",
     "output_type": "stream",
     "text": [
      "12222 the following is a list of the most populous incorporated places of the united states. as defined by the united states census bureau, an \"incorporated place\" includes a variety of 13 designations, including city, town, village, borough, and municipality.[a] a few exceptional census-designated places (cdps) are also included in the census bureau's listing of incorporated places.[b] consolidated city-counties represent a distinct type of government 11that includes the entire population of a county, or county equivalent. some consolidated city-counties, however, include multiple incorporated places. 223, this list presents only that portion (or \"balance\") of such consolidated city-counties that are not a part of another incorporated place.\n",
      "\n",
      "this list refers only to the population of individual municipalities within their defined limits; the populations of other municipalities considered suburbs of a central city are listed separately, and unincorporated areas within urban agglomerations are not included. therefore, a different ranking is evident when considering u.s. metropolitan area populations.\n"
     ]
    }
   ],
   "source": [
    "print(s)"
   ]
  },
  {
   "cell_type": "code",
   "execution_count": 147,
   "metadata": {},
   "outputs": [],
   "source": [
    "import re"
   ]
  },
  {
   "cell_type": "code",
   "execution_count": 148,
   "metadata": {},
   "outputs": [
    {
     "data": {
      "text/plain": [
       "['12222', '13', '11', '223']"
      ]
     },
     "execution_count": 148,
     "metadata": {},
     "output_type": "execute_result"
    }
   ],
   "source": [
    "re.findall(r'\\d{1,6}', s)"
   ]
  },
  {
   "cell_type": "code",
   "execution_count": 149,
   "metadata": {},
   "outputs": [
    {
     "data": {
      "text/plain": [
       "[]"
      ]
     },
     "execution_count": 149,
     "metadata": {},
     "output_type": "execute_result"
    }
   ],
   "source": [
    "re.findall(r'[A-Z][a-z]+',s)"
   ]
  },
  {
   "cell_type": "code",
   "execution_count": 150,
   "metadata": {},
   "outputs": [
    {
     "data": {
      "text/plain": [
       "['the',\n",
       " 'following',\n",
       " 'is',\n",
       " 'a',\n",
       " 'list',\n",
       " 'of',\n",
       " 'the',\n",
       " 'most',\n",
       " 'populous',\n",
       " 'incorporated',\n",
       " 'places',\n",
       " 'of',\n",
       " 'the',\n",
       " 'united',\n",
       " 'states',\n",
       " 'as',\n",
       " 'defined',\n",
       " 'by',\n",
       " 'the',\n",
       " 'united',\n",
       " 'states',\n",
       " 'census',\n",
       " 'bureau',\n",
       " 'an',\n",
       " 'incorporated',\n",
       " 'place',\n",
       " 'includes',\n",
       " 'a',\n",
       " 'variety',\n",
       " 'of',\n",
       " 'designations',\n",
       " 'including',\n",
       " 'city',\n",
       " 'town',\n",
       " 'village',\n",
       " 'borough',\n",
       " 'and',\n",
       " 'municipality',\n",
       " '[a]',\n",
       " 'a',\n",
       " 'few',\n",
       " 'exceptional',\n",
       " 'census',\n",
       " 'designated',\n",
       " 'places',\n",
       " 'cdps',\n",
       " 'are',\n",
       " 'also',\n",
       " 'included',\n",
       " 'in',\n",
       " 'the',\n",
       " 'census',\n",
       " 'bureau',\n",
       " 's',\n",
       " 'listing',\n",
       " 'of',\n",
       " 'incorporated',\n",
       " 'places',\n",
       " '[b]',\n",
       " 'consolidated',\n",
       " 'city',\n",
       " 'counties',\n",
       " 'represent',\n",
       " 'a',\n",
       " 'distinct',\n",
       " 'type',\n",
       " 'of',\n",
       " 'government',\n",
       " 'that',\n",
       " 'includes',\n",
       " 'the',\n",
       " 'entire',\n",
       " 'population',\n",
       " 'of',\n",
       " 'a',\n",
       " 'county',\n",
       " 'or',\n",
       " 'county',\n",
       " 'equivalent',\n",
       " 'some',\n",
       " 'consolidated',\n",
       " 'city',\n",
       " 'counties',\n",
       " 'however',\n",
       " 'include',\n",
       " 'multiple',\n",
       " 'incorporated',\n",
       " 'places',\n",
       " 'this',\n",
       " 'list',\n",
       " 'presents',\n",
       " 'only',\n",
       " 'that',\n",
       " 'portion',\n",
       " 'or',\n",
       " 'balance',\n",
       " 'of',\n",
       " 'such',\n",
       " 'consolidated',\n",
       " 'city',\n",
       " 'counties',\n",
       " 'that',\n",
       " 'are',\n",
       " 'not',\n",
       " 'a',\n",
       " 'part',\n",
       " 'of',\n",
       " 'another',\n",
       " 'incorporated',\n",
       " 'place',\n",
       " 'this',\n",
       " 'list',\n",
       " 'refers',\n",
       " 'only',\n",
       " 'to',\n",
       " 'the',\n",
       " 'population',\n",
       " 'of',\n",
       " 'individual',\n",
       " 'municipalities',\n",
       " 'within',\n",
       " 'their',\n",
       " 'defined',\n",
       " 'limits',\n",
       " 'the',\n",
       " 'populations',\n",
       " 'of',\n",
       " 'other',\n",
       " 'municipalities',\n",
       " 'considered',\n",
       " 'suburbs',\n",
       " 'of',\n",
       " 'a',\n",
       " 'central',\n",
       " 'city',\n",
       " 'are',\n",
       " 'listed',\n",
       " 'separately',\n",
       " 'and',\n",
       " 'unincorporated',\n",
       " 'areas',\n",
       " 'within',\n",
       " 'urban',\n",
       " 'agglomerations',\n",
       " 'are',\n",
       " 'not',\n",
       " 'included',\n",
       " 'therefore',\n",
       " 'a',\n",
       " 'different',\n",
       " 'ranking',\n",
       " 'is',\n",
       " 'evident',\n",
       " 'when',\n",
       " 'considering',\n",
       " 'u',\n",
       " 's',\n",
       " 'metropolitan',\n",
       " 'area',\n",
       " 'populations']"
      ]
     },
     "execution_count": 150,
     "metadata": {},
     "output_type": "execute_result"
    }
   ],
   "source": [
    "re.findall(r'[A-za-z]+',s)"
   ]
  },
  {
   "cell_type": "code",
   "execution_count": 151,
   "metadata": {},
   "outputs": [
    {
     "name": "stdout",
     "output_type": "stream",
     "text": [
      "following\n"
     ]
    },
    {
     "ename": "AttributeError",
     "evalue": "'NoneType' object has no attribute 'group'",
     "output_type": "error",
     "traceback": [
      "\u001b[1;31m---------------------------------------------------------------------------\u001b[0m",
      "\u001b[1;31mAttributeError\u001b[0m                            Traceback (most recent call last)",
      "\u001b[1;32m<ipython-input-151-9b601fbc2f98>\u001b[0m in \u001b[0;36m<module>\u001b[1;34m\u001b[0m\n\u001b[0;32m      3\u001b[0m \u001b[1;31m# if the word is npot there in the document, we will get an error\u001b[0m\u001b[1;33m\u001b[0m\u001b[1;33m\u001b[0m\u001b[1;33m\u001b[0m\u001b[0m\n\u001b[0;32m      4\u001b[0m \u001b[0mprint\u001b[0m\u001b[1;33m(\u001b[0m\u001b[0mre\u001b[0m\u001b[1;33m.\u001b[0m\u001b[0msearch\u001b[0m\u001b[1;33m(\u001b[0m\u001b[1;34m'following'\u001b[0m\u001b[1;33m,\u001b[0m \u001b[0ms\u001b[0m\u001b[1;33m)\u001b[0m\u001b[1;33m.\u001b[0m\u001b[0mgroup\u001b[0m\u001b[1;33m(\u001b[0m\u001b[1;33m)\u001b[0m\u001b[1;33m)\u001b[0m\u001b[1;33m\u001b[0m\u001b[1;33m\u001b[0m\u001b[0m\n\u001b[1;32m----> 5\u001b[1;33m \u001b[0mprint\u001b[0m\u001b[1;33m(\u001b[0m\u001b[0mre\u001b[0m\u001b[1;33m.\u001b[0m\u001b[0msearch\u001b[0m\u001b[1;33m(\u001b[0m\u001b[1;34m'fff'\u001b[0m\u001b[1;33m,\u001b[0m \u001b[0ms\u001b[0m\u001b[1;33m)\u001b[0m\u001b[1;33m.\u001b[0m\u001b[0mgroup\u001b[0m\u001b[1;33m(\u001b[0m\u001b[1;33m)\u001b[0m\u001b[1;33m)\u001b[0m\u001b[1;33m\u001b[0m\u001b[1;33m\u001b[0m\u001b[0m\n\u001b[0m",
      "\u001b[1;31mAttributeError\u001b[0m: 'NoneType' object has no attribute 'group'"
     ]
    }
   ],
   "source": [
    "# This will search for the word following in the string s\n",
    "# we will use .group in order to see of the word appears in the document\n",
    "# if the word is npot there in the document, we will get an error\n",
    "print(re.search('following', s).group())\n",
    "print(re.search('fff', s).group())"
   ]
  },
  {
   "cell_type": "code",
   "execution_count": 152,
   "metadata": {},
   "outputs": [
    {
     "name": "stdout",
     "output_type": "stream",
     "text": [
      "match found\n"
     ]
    }
   ],
   "source": [
    "def Find(pattern, text):\n",
    "    match = re.search(pattern, text)\n",
    "    if match:\n",
    "        print(\"match found\")\n",
    "    else:\n",
    "        print('no match found')\n",
    "Find('following', s)"
   ]
  },
  {
   "cell_type": "markdown",
   "metadata": {},
   "source": [
    "## Identifiers:\n",
    "\n",
    "\\d = any number <br>\n",
    "\\D = anything but a number<br>\n",
    "\\s = space<br>\n",
    "\\S = anything but a space<br>\n",
    "\\w = any letter<br>\n",
    "\\W = anything but a letter<br>\n",
    ". = any character, except for a new line<br>\n",
    "\\b = space around whole words<br>\n",
    "\\. = period. must use backslash, because . normally means any character <br>\n",
    "\n",
    "## Modifiers:\n",
    "\n",
    "{1,3} = for digits, u expect 1-3 counts of digits, or \"places\"<br>\n",
    "+ = match 1 or more<br>\n",
    "? = match 0 or 1 repetitions.<br>\n",
    "* = match 0 or MORE repetitions<br>\n",
    "$ = matches at the end of string<br>\n",
    "^ = matches start of a string<br>\n",
    "| = matches either/or. Example x|y = will match either x or y<br>\n",
    "[] = range, or \"variance\"<br>\n",
    "{x} = expect to see this amount of the preceding code.<br>\n",
    "{x,y} = expect to see this x-y amounts of the precedng code<br>\n",
    "\n",
    "## White Space Charts:\n",
    "\n",
    "\\n = new line<br>\n",
    "\\s = space<br>\n",
    "\\t = tab<br>\n",
    "\\e = escape<br>\n",
    "\\f = form feed<br>\n",
    "\\r = carriage return<br>\n",
    "Characters to REMEMBER TO ESCAPE IF USED!<br>\n",
    "\n",
    ". + * ? [ ] $ ^ ( ) { } | \\<br>\n",
    "\n",
    "## Brackets:\n",
    "\n",
    "[] = quant[ia]tative = will find either quantitative, or quantatative.<br>\n",
    "[a-z] = return any lowercase letter a-z<br>\n",
    "[1-5a-qA-Z] = return all numbers 1-5, lowercase letters a-q and uppercase A-Z<br>"
   ]
  },
  {
   "cell_type": "code",
   "execution_count": 153,
   "metadata": {},
   "outputs": [
    {
     "name": "stdout",
     "output_type": "stream",
     "text": [
      "match found\n",
      "no match found\n",
      "match found\n",
      "match found\n",
      "match found\n",
      "match found\n",
      "match found\n"
     ]
    }
   ],
   "source": [
    "Find('.....wing',s) # matches any 4 character before wing , finds first word as it goes from left to right and finds a solution\n",
    "Find('F......',s)\n",
    "Find('f.........',s)\n",
    "Find('populous',s)\n",
    "Find('lous',s)\n",
    "Find('\\.',s) # .\\ searches only for dot character\n",
    "Find('\\.','satwik.kashyap@yahoo.co.in') "
   ]
  },
  {
   "cell_type": "code",
   "execution_count": 154,
   "metadata": {},
   "outputs": [
    {
     "data": {
      "text/plain": [
       "<re.Match object; span=(0, 26), match='satwik.kashyap@yahoo.co.in'>"
      ]
     },
     "execution_count": 154,
     "metadata": {},
     "output_type": "execute_result"
    }
   ],
   "source": [
    "# word doesnot tak .\n",
    "# word only takes alphabets, digits, _\n",
    "\n",
    "# eg. read an email : satwik.kashyap@yahoo.co.in\n",
    "re.search(r'[\\w+.@]+','satwik.kashyap@yahoo.co.in') # [] means that inside thos watever is written can be included"
   ]
  },
  {
   "cell_type": "code",
   "execution_count": 155,
   "metadata": {},
   "outputs": [
    {
     "name": "stdout",
     "output_type": "stream",
     "text": [
      "satwik1.kashyap1@yahoo.co.in\n",
      "satwik1.kashyap1\n",
      "yahoo.co.in\n"
     ]
    }
   ],
   "source": [
    "res = re.search(r'([\\w.]+)@([\\w.]+)','satwik1.kashyap1@yahoo.co.in satwik.kashyap@yahoo.co.in')\n",
    "print(res.group())\n",
    "print(res.group(1)) # inside first curly brackets\n",
    "print(res.group(2)) # inside second curly brackets\n"
   ]
  },
  {
   "cell_type": "code",
   "execution_count": 156,
   "metadata": {},
   "outputs": [
    {
     "data": {
      "text/plain": [
       "['satwik1.kashyap1@yahoo.co.in', 'satwik.kashyap@yahoo.co.in']"
      ]
     },
     "execution_count": 156,
     "metadata": {},
     "output_type": "execute_result"
    }
   ],
   "source": [
    "# using findall\n",
    "re.findall(r'[\\w.]+@[\\w.]+','satwik1.kashyap1@yahoo.co.in satwik.kashyap@yahoo.co.in')"
   ]
  },
  {
   "cell_type": "code",
   "execution_count": 157,
   "metadata": {},
   "outputs": [
    {
     "data": {
      "text/plain": [
       "[('satwik1.kashyap1', 'yahoo.co.in'), ('satwik.kashyap', 'yahoo.co.in')]"
      ]
     },
     "execution_count": 157,
     "metadata": {},
     "output_type": "execute_result"
    }
   ],
   "source": [
    "re.findall(r'([\\w.]+)@([\\w.]+)','satwik1.kashyap1@yahoo.co.in satwik.kashyap@yahoo.co.in') # returns tuples"
   ]
  },
  {
   "cell_type": "code",
   "execution_count": 158,
   "metadata": {},
   "outputs": [
    {
     "name": "stdout",
     "output_type": "stream",
     "text": [
      "['A', 'ASCII', 'DEBUG', 'DOTALL', 'I', 'IGNORECASE', 'L', 'LOCALE', 'M', 'MULTILINE', 'Match', 'Pattern', 'RegexFlag', 'S', 'Scanner', 'T', 'TEMPLATE', 'U', 'UNICODE', 'VERBOSE', 'X', '_MAXCACHE', '__all__', '__builtins__', '__cached__', '__doc__', '__file__', '__loader__', '__name__', '__package__', '__spec__', '__version__', '_cache', '_compile', '_compile_repl', '_expand', '_locale', '_pickle', '_special_chars_map', '_subx', 'compile', 'copyreg', 'enum', 'error', 'escape', 'findall', 'finditer', 'fullmatch', 'functools', 'match', 'purge', 'search', 'split', 'sre_compile', 'sre_parse', 'sub', 'subn', 'template']\n"
     ]
    }
   ],
   "source": [
    "# operations inside re\n",
    "print(dir(re))"
   ]
  },
  {
   "cell_type": "code",
   "execution_count": 159,
   "metadata": {},
   "outputs": [
    {
     "name": "stdout",
     "output_type": "stream",
     "text": [
      "['color']\n",
      "['']\n"
     ]
    }
   ],
   "source": [
    "# Question mark\n",
    "print(re.findall(r'colo?r','color colour'))\n",
    "print(re.findall(r'Nov(ember)?','Nov'))"
   ]
  },
  {
   "cell_type": "code",
   "execution_count": 175,
   "metadata": {},
   "outputs": [],
   "source": [
    "sample_text = 'Hello I am $atwik. My passion is to be a data scientist. I love Soccer. How### *(# #are you). Take care***@>ncBest Regards'"
   ]
  },
  {
   "cell_type": "code",
   "execution_count": 176,
   "metadata": {},
   "outputs": [
    {
     "data": {
      "text/plain": [
       "'Hello I am atwik My passion is to be a data scientist I love Soccer How are you Take care ncBest Regards'"
      ]
     },
     "execution_count": 176,
     "metadata": {},
     "output_type": "execute_result"
    }
   ],
   "source": [
    "# subsititution command\n",
    "re.sub('[^A-Za-z0-9]+',' ',sample_text)"
   ]
  },
  {
   "cell_type": "code",
   "execution_count": 177,
   "metadata": {},
   "outputs": [
    {
     "data": {
      "text/plain": [
       "['H', 'e', 'l', 'l', 'o', ' ', 'W', 'o', 'r', 'l', 'd']"
      ]
     },
     "execution_count": 177,
     "metadata": {},
     "output_type": "execute_result"
    }
   ],
   "source": [
    "# selecting everyting except for new line character\n",
    "re.findall('.','Hello World')"
   ]
  },
  {
   "cell_type": "code",
   "execution_count": 213,
   "metadata": {},
   "outputs": [
    {
     "data": {
      "text/plain": [
       "['1280', '1233', '900909', '20201111']"
      ]
     },
     "execution_count": 213,
     "metadata": {},
     "output_type": "execute_result"
    }
   ],
   "source": [
    "#finding 3 or more digit from numbers\n",
    "re.findall('\\d{3,}', 'Lucky number 1, 1280, 1233, 900909, 20201111satwik ')"
   ]
  },
  {
   "cell_type": "code",
   "execution_count": 215,
   "metadata": {},
   "outputs": [
    {
     "data": {
      "text/plain": [
       "['satwik.kashyap@gmail.com', 'satw@hhh.com']"
      ]
     },
     "execution_count": 215,
     "metadata": {},
     "output_type": "execute_result"
    }
   ],
   "source": [
    "# Finding email address\n",
    "e= 'X is awesome!!!! E-mail him satwik.kashyap@gmail.com or satw@hhh.com if you have questions'\n",
    "re.findall('[\\w.]+@[\\w]+\\.[\\w]+',e)"
   ]
  },
  {
   "cell_type": "code",
   "execution_count": 216,
   "metadata": {},
   "outputs": [
    {
     "name": "stdout",
     "output_type": "stream",
     "text": [
      "['university']\n",
      "[]\n"
     ]
    }
   ],
   "source": [
    "# checking if the string ends with university\n",
    "print(re.findall(r'university$',\"satwik kashyap studies in northeastern university\"))\n",
    "print(re.findall(r'university$',\"satwik kashyap studies in northeastern university, Boston\"))"
   ]
  },
  {
   "cell_type": "code",
   "execution_count": null,
   "metadata": {},
   "outputs": [],
   "source": []
  }
 ],
 "metadata": {
  "kernelspec": {
   "display_name": "Python 3",
   "language": "python",
   "name": "python3"
  },
  "language_info": {
   "codemirror_mode": {
    "name": "ipython",
    "version": 3
   },
   "file_extension": ".py",
   "mimetype": "text/x-python",
   "name": "python",
   "nbconvert_exporter": "python",
   "pygments_lexer": "ipython3",
   "version": "3.7.1"
  }
 },
 "nbformat": 4,
 "nbformat_minor": 2
}
